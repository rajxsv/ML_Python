{
 "cells": [
  {
   "cell_type": "markdown",
   "id": "a5db298f-692c-4425-ba14-a83e5a963463",
   "metadata": {},
   "source": [
    "# Hiii !\n",
    "\n",
    "Why Python \n",
    "1. ghaint aa\n",
    "2. interpreter\n",
    "\n",
    "\n"
   ]
  },
  {
   "cell_type": "code",
   "execution_count": 1,
   "id": "7ce78445-b646-4996-8bca-638f11aaf593",
   "metadata": {},
   "outputs": [],
   "source": [
    "a = 10\n",
    "b = 20"
   ]
  },
  {
   "cell_type": "code",
   "execution_count": 2,
   "id": "05c9766d-7508-466f-9432-fa9f3571860b",
   "metadata": {},
   "outputs": [
    {
     "data": {
      "text/plain": [
       "10"
      ]
     },
     "execution_count": 2,
     "metadata": {},
     "output_type": "execute_result"
    }
   ],
   "source": [
    "a "
   ]
  },
  {
   "cell_type": "code",
   "execution_count": 5,
   "id": "89803805-2393-4154-baf7-ba9c5f136edf",
   "metadata": {},
   "outputs": [
    {
     "data": {
      "text/plain": [
       "int"
      ]
     },
     "execution_count": 5,
     "metadata": {},
     "output_type": "execute_result"
    }
   ],
   "source": [
    "type(a)\n"
   ]
  },
  {
   "cell_type": "code",
   "execution_count": 11,
   "id": "192028d9-4b08-4969-8863-a8b555018c9f",
   "metadata": {},
   "outputs": [
    {
     "data": {
      "text/plain": [
       "str"
      ]
     },
     "execution_count": 11,
     "metadata": {},
     "output_type": "execute_result"
    }
   ],
   "source": [
    "b=\"Raju\"\n",
    "type(b)"
   ]
  },
  {
   "cell_type": "code",
   "execution_count": 13,
   "id": "7462db29-2dba-4ca0-9aa4-52a04a1c4586",
   "metadata": {},
   "outputs": [],
   "source": [
    "# Casting - \n",
    "b = int(2)"
   ]
  },
  {
   "cell_type": "code",
   "execution_count": 15,
   "id": "8122a0bf-426d-4332-88e9-c5e60681cf3a",
   "metadata": {},
   "outputs": [],
   "source": [
    "a=[1,2,3,4,5]\n"
   ]
  },
  {
   "cell_type": "code",
   "execution_count": 18,
   "id": "6a9ff5c1-60dc-4b22-b2d3-4cf0329e9a8b",
   "metadata": {},
   "outputs": [
    {
     "name": "stdout",
     "output_type": "stream",
     "text": [
      "[1, 2, 3, 4, 5]\n"
     ]
    }
   ],
   "source": [
    "a[0:3] # 0 1 2\n",
    "print(a)"
   ]
  },
  {
   "cell_type": "code",
   "execution_count": 20,
   "id": "ee4ef0b3-b1a1-4191-9efa-e378e7e0e558",
   "metadata": {},
   "outputs": [
    {
     "data": {
      "text/plain": [
       "[1, 2, 3]"
      ]
     },
     "execution_count": 20,
     "metadata": {},
     "output_type": "execute_result"
    }
   ],
   "source": [
    "a[0:3]"
   ]
  },
  {
   "cell_type": "code",
   "execution_count": 22,
   "id": "03f56117-c9f5-4f79-afad-cd94580b97ce",
   "metadata": {},
   "outputs": [
    {
     "data": {
      "text/plain": [
       "[3]"
      ]
     },
     "execution_count": 22,
     "metadata": {},
     "output_type": "execute_result"
    }
   ],
   "source": [
    "a[2:3]"
   ]
  },
  {
   "cell_type": "code",
   "execution_count": 25,
   "id": "5abff5fe-d1aa-4d83-be8f-c49fe450d0e3",
   "metadata": {},
   "outputs": [
    {
     "data": {
      "text/plain": [
       "[1, 4]"
      ]
     },
     "execution_count": 25,
     "metadata": {},
     "output_type": "execute_result"
    }
   ],
   "source": [
    "a[0:6:3] # skips 3 spaces or 2 elemets between (inclusive) index 0 to 5"
   ]
  },
  {
   "cell_type": "code",
   "execution_count": 28,
   "id": "7dea521c-3017-4271-844f-68205bc16cdc",
   "metadata": {},
   "outputs": [
    {
     "data": {
      "text/plain": [
       "[1, 2]"
      ]
     },
     "execution_count": 28,
     "metadata": {},
     "output_type": "execute_result"
    }
   ],
   "source": [
    "a[0:-3]"
   ]
  },
  {
   "cell_type": "code",
   "execution_count": 31,
   "id": "61d9ecdd-f0e7-4149-a6bf-1092e1adb5bd",
   "metadata": {},
   "outputs": [],
   "source": [
    "n=a.copy()"
   ]
  },
  {
   "cell_type": "code",
   "execution_count": 33,
   "id": "c6102d72-20af-4c60-9ae3-4e02fdd03f20",
   "metadata": {},
   "outputs": [
    {
     "data": {
      "text/plain": [
       "[1, 2, 3, 4, 5]"
      ]
     },
     "execution_count": 33,
     "metadata": {},
     "output_type": "execute_result"
    }
   ],
   "source": [
    "n"
   ]
  },
  {
   "cell_type": "code",
   "execution_count": 35,
   "id": "92811cd2-5c50-4b31-9f70-d85edef77e5f",
   "metadata": {},
   "outputs": [],
   "source": [
    "a.sort(reverse=True)"
   ]
  },
  {
   "cell_type": "code",
   "execution_count": 37,
   "id": "1ea3592a-9202-4b15-967c-f1fa01e9783e",
   "metadata": {},
   "outputs": [
    {
     "data": {
      "text/plain": [
       "[5, 4, 3, 2, 1]"
      ]
     },
     "execution_count": 37,
     "metadata": {},
     "output_type": "execute_result"
    }
   ],
   "source": [
    "a\n"
   ]
  },
  {
   "cell_type": "code",
   "execution_count": 41,
   "id": "87273f98-a6d0-4792-8a4b-9b74ec3bd766",
   "metadata": {},
   "outputs": [
    {
     "data": {
      "text/plain": [
       "[5, 4, 3, 1]"
      ]
     },
     "execution_count": 41,
     "metadata": {},
     "output_type": "execute_result"
    }
   ],
   "source": [
    "# a.remove(2) first occurrence\n",
    "a"
   ]
  },
  {
   "cell_type": "code",
   "execution_count": 60,
   "id": "6cafd992-4fc0-40cd-84a3-e8d000b911d4",
   "metadata": {},
   "outputs": [
    {
     "data": {
      "text/plain": [
       "1"
      ]
     },
     "execution_count": 60,
     "metadata": {},
     "output_type": "execute_result"
    }
   ],
   "source": [
    "# Tuples are permanent \n",
    "# immutable ordered collection of items as a list \n",
    "# define - ()\n",
    "\n",
    "t = (1,2,3,4,5)\n",
    "t[0:4]\n",
    "t\n",
    "\n",
    "# sets unordered collection of unique items \n",
    "s={1,2,3,4,5}\n",
    "t={1,2,3}\n",
    "s.update(t) # random !\n",
    "s.update([69])\n",
    "s.remove(1)\n",
    "s\n",
    "\n",
    "# dictionary : key,value\n",
    "# defined by curly {}\n",
    "d = {\"first\":1,\"second\":2,\"third\":3}\n",
    "d.keys()\n",
    "d.items()\n",
    "d[\"first\"]"
   ]
  },
  {
   "cell_type": "code",
   "execution_count": null,
   "id": "6af93779-f660-43f8-95d8-dca20f55360d",
   "metadata": {},
   "outputs": [],
   "source": [
    "]"
   ]
  }
 ],
 "metadata": {
  "kernelspec": {
   "display_name": "Python 3 (ipykernel)",
   "language": "python",
   "name": "python3"
  },
  "language_info": {
   "codemirror_mode": {
    "name": "ipython",
    "version": 3
   },
   "file_extension": ".py",
   "mimetype": "text/x-python",
   "name": "python",
   "nbconvert_exporter": "python",
   "pygments_lexer": "ipython3",
   "version": "3.12.2"
  }
 },
 "nbformat": 4,
 "nbformat_minor": 5
}
