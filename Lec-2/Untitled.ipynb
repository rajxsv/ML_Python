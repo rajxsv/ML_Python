{
 "cells": [
  {
   "cell_type": "code",
   "execution_count": 14,
   "id": "d5734ccf-4cbd-4dc1-b253-af495f49c107",
   "metadata": {},
   "outputs": [
    {
     "name": "stdout",
     "output_type": "stream",
     "text": [
      "Hello\n",
      "elif\n"
     ]
    },
    {
     "name": "stdin",
     "output_type": "stream",
     "text": [
      "Give me number 1\n"
     ]
    },
    {
     "name": "stdout",
     "output_type": "stream",
     "text": [
      "You gave 1\n"
     ]
    }
   ],
   "source": [
    "# Day 2\n",
    "def functionName():\n",
    "    #statements\n",
    "    return \"return something\"\n",
    "\n",
    "# ---\n",
    "\n",
    "def fn():\n",
    "    print(\"Hello\")\n",
    "fn()\n",
    "\n",
    "def fn2(arg1,arg2):\n",
    "    return arg1+arg2\n",
    "fn2(1,2)\n",
    "\n",
    "# conditionals \n",
    "if 1==2 :\n",
    "    # statement\n",
    "    a=2\n",
    "elif 1==1:\n",
    "    print('elif')\n",
    "\n",
    "def isEven(x:int,y=12)->float:\n",
    "    return 1.0 if x%2==0 else -0.1\n",
    "isEven(19)\n",
    "\n",
    "\n",
    "a = int(input(\"Give me number\"))\n",
    "print(\"You gave\",a)\n"
   ]
  }
 ],
 "metadata": {
  "kernelspec": {
   "display_name": "Python 3 (ipykernel)",
   "language": "python",
   "name": "python3"
  },
  "language_info": {
   "codemirror_mode": {
    "name": "ipython",
    "version": 3
   },
   "file_extension": ".py",
   "mimetype": "text/x-python",
   "name": "python",
   "nbconvert_exporter": "python",
   "pygments_lexer": "ipython3",
   "version": "3.12.2"
  }
 },
 "nbformat": 4,
 "nbformat_minor": 5
}
